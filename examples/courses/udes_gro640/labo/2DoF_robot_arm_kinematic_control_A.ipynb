{
  "nbformat": 4,
  "nbformat_minor": 0,
  "metadata": {
    "colab": {
      "provenance": [],
      "private_outputs": true,
      "toc_visible": true
    },
    "kernelspec": {
      "name": "python3",
      "display_name": "Python 3"
    },
    "language_info": {
      "name": "python"
    }
  },
  "cells": [
    {
      "cell_type": "markdown",
      "source": [
        "# Robot arm kinematic control\n",
        "\n",
        "This page introduce the concept of controlling the end-effector of a robot when its joint are controlled with velocity set-points."
      ],
      "metadata": {
        "id": "OfiozzVs1Upg"
      }
    },
    {
      "cell_type": "markdown",
      "metadata": {
        "id": "eOFBWst7WmCb"
      },
      "source": [
        "## Importing Librairies"
      ]
    },
    {
      "cell_type": "code",
      "metadata": {
        "id": "tH-1a9VJGXi8"
      },
      "source": [
        "# Loading a robotic toolbox\n",
        "!git clone https://github.com/SherbyRobotics/pyro\n",
        "import sys\n",
        "sys.path.append('/content/pyro')\n",
        "import pyro\n",
        "\n",
        "# Generic python tools\n",
        "import numpy as np\n",
        "from IPython import display"
      ],
      "execution_count": null,
      "outputs": []
    },
    {
      "cell_type": "markdown",
      "metadata": {
        "id": "cau_ePoSW6Z_"
      },
      "source": [
        "# Defining the robot arm\n",
        "\n",
        "Here we load a already defined class from the library including the dynamic equations defining the robot arm behavior.\n",
        "\n"
      ]
    },
    {
      "cell_type": "code",
      "metadata": {
        "id": "5pf-lSEZG5gy"
      },
      "source": [
        "from pyro.dynamic import manipulator\n",
        "\n",
        "# Dynamic model (inputs are motor torques)\n",
        "torque_controlled_robot    = manipulator.TwoLinkManipulator()\n",
        "\n",
        "torque_controlled_robot.l1 = 4.0 # length of first rigid link\n",
        "torque_controlled_robot.l2 = 3.0 # length of second rigid link\n",
        "torque_controlled_robot.l_domain = 10\n",
        "\n",
        "# Kinematic only model (inputs are motor velocities)\n",
        "speed_controlled_robot  = manipulator.SpeedControlledManipulator.from_manipulator( torque_controlled_robot )\n",
        "\n",
        "robot = speed_controlled_robot # For this exercise, we will only use the kinematic model"
      ],
      "execution_count": null,
      "outputs": []
    },
    {
      "cell_type": "markdown",
      "metadata": {
        "id": "P2wLQ8lDYY9S"
      },
      "source": [
        "## Showing the robot behavior with constant velocity inputs\n",
        "\n",
        "Here we run a simulation of the robot arm with no controllers:"
      ]
    },
    {
      "cell_type": "code",
      "metadata": {
        "id": "lfjr9zXlYYMb"
      },
      "source": [
        "# robot initial states [ joint 1 angle (rad),  joint 2 angle (rad), joint 1 velocity (rad/sec),  joint 1 velocity (rad/sec)]\n",
        "robot.x0 = np.array([ 0.1, 0.1])\n",
        "\n",
        "# robot constant inputs\n",
        "robot.ubar = np.array([ 0.5, 1.0]) # Constant joint velocities\n",
        "\n",
        "# run the simulation\n",
        "robot.compute_trajectory( tf = 6 )\n",
        "\n",
        "# Animate and display the simulation\n",
        "ani  = robot.generate_simulation_html_video()\n",
        "html = display.HTML( ani )\n",
        "display.display(html)"
      ],
      "execution_count": null,
      "outputs": []
    },
    {
      "cell_type": "markdown",
      "metadata": {
        "id": "nxKK7RWBa8kd"
      },
      "source": [
        "# Kinematic controller\n",
        "\n",
        "Here bellow you can write your own custom kinematic control law, i.e. computing the joint velocity based on actual joint position and time. Here the framework is already set in place for you to speed-up the implementation process. The following variable are pre-computed and available for you to use in the feedback law:\n",
        "\n",
        "*   The joint angles $q$\n",
        "*   The time $t$\n",
        "\n",
        "Furthermore, based on a kinematic robot model the following properties are also pre-computed:\n",
        "*   The actual end-effector position $r$\n",
        "*   The Jacobian $J(q)$\n",
        "\n"
      ]
    },
    {
      "cell_type": "code",
      "metadata": {
        "id": "M4cQxkQTD0Qn"
      },
      "source": [
        "from pyro.control  import robotcontrollers\n",
        "\n",
        "# global_index = 0\n",
        "# r_d_array = [np.array([5,0]), np.array([3,0]),np.array([0,3]), np.array([5,0])] # Effector cartesian points\n",
        "# delta_dist_array = []\n",
        "# dist_vector_array = []\n",
        "# normalized_vector_array = []\n",
        "# time_array = []\n",
        "# v_max = 1 # m/s\n",
        "# a_max = 1 # m/s^2\n",
        "\n",
        "# for i in range(0, len(r_d_array)-1):\n",
        "#   # Compute des distances a parcourir\n",
        "#   dist_vector_array.append(r_d_array[i+1] - r_d_array[i])\n",
        "#   delta_dist_array.append(np.linalg.norm(dist_vector_array[i])) # vecteur unitaire vitesse\n",
        "#   time_array.append((a_max * delta_dist_array[i] + v_max **2)/ (v_max*a_max))\n",
        "#   normalized_vector_array.append(dist_vector_array[i]/delta_dist_array[i])\n",
        "\n",
        "# dr_d_array = [np.array([-1,0]), np.array([3,0]),np.array([0,3]), np.array([5,0])] # Effector speed vectors, must be unit vectors\n",
        "# max_trajectory_points = len(r_d_array)-1\n",
        "class CustomKinematicController( robotcontrollers.EndEffectorKinematicController ) :\n",
        "\n",
        "    global global_index\n",
        "\n",
        "\n",
        "    #############################\n",
        "    def c( self , y , r , t ):\n",
        "        \"\"\"\n",
        "        Feedback static computation u = c(y,r,t)\n",
        "\n",
        "        INPUTS\n",
        "        y  : sensor signal vector     p x 1\n",
        "        r  : reference signal vector  k x 1\n",
        "        t  : time                     1 x 1\n",
        "\n",
        "        OUTPUTS\n",
        "        dq  : joint velocity vector   m x 1\n",
        "\n",
        "        \"\"\"\n",
        "\n",
        "        # Feedback from sensors\n",
        "        q = y                  # Joint angles\n",
        "\n",
        "        # Pre-computed values based on the robot kinematic model\n",
        "        J = self.J( q )        # Jacobian computation\n",
        "        r = self.fwd_kin( q )  # End-effector postion\n",
        "\n",
        "\n",
        "        vit_max = 1 # vitesse de déplacement\n",
        "        acc_max = 2 # accélération du tool\n",
        "        tf = vit_max/acc_max # temps d'accélération et déccélération\n",
        "\n",
        "        goal1 = np.array([5,0])\n",
        "        goal2 = np.array([3,0])\n",
        "        goal3 = np.array([0,3])\n",
        "        goal4 = np.array([0,5])\n",
        "\n",
        "        d1 = np.linalg.norm(goal2-goal1)\n",
        "        d2 = np.linalg.norm(goal3-goal2)\n",
        "        d3 = np.linalg.norm(goal4-goal3)\n",
        "\n",
        "        r1 = np.array(goal2-goal1)\n",
        "        r2 = np.array(goal3-goal2)\n",
        "        r3 = np.array(goal4-goal3)\n",
        "\n",
        "        u1 = r1/d1\n",
        "        u2 = r2/d2\n",
        "        u3 = r3/d3\n",
        "\n",
        "        t1 = ( vit_max**2 + d1*acc_max )/ ( acc_max * vit_max )\n",
        "        t2 = ( vit_max**2 + d2*acc_max )/ ( acc_max * vit_max )\n",
        "        t3 = ( vit_max**2 + d3*acc_max )/ ( acc_max * vit_max )\n",
        "\n",
        "        # Déplacement 1\n",
        "        if(t < t1):\n",
        "          vit = 0\n",
        "          t = t-0 # local time\n",
        "          if(t < tf): # accel phase\n",
        "            vit = acc_max * t\n",
        "          elif(t > (t1-tf)): # deccel phase\n",
        "            vit =  acc_max * (t1-t)\n",
        "          else: # cste speed phase\n",
        "            vit = vit_max\n",
        "\n",
        "          dr_ga = vit*u1\n",
        "\n",
        "        # Segment 2\n",
        "        elif(t < (t1+t2) ):\n",
        "          vit = 0\n",
        "          t = t-t1 # local time\n",
        "          if(t < tf):\n",
        "            vit = acc_max * t\n",
        "          elif(t > (t2-tf)):\n",
        "            vit =  acc_max * (t2-t)\n",
        "          else:\n",
        "            vit = vit_max\n",
        "\n",
        "          dr_ga = vit*u2\n",
        "\n",
        "           # Segment 3\n",
        "        elif(t < (t1+t2+t3) ):\n",
        "          vit = 0\n",
        "          t = t-(t1+t2) # local time\n",
        "          if(t < tf):\n",
        "            vit = acc_max * t\n",
        "          elif(t > (t3-tf)):\n",
        "            vit =  acc_max * (t3-t)\n",
        "          else:\n",
        "            vit = vit_max\n",
        "\n",
        "          dr_ga = vit*u3\n",
        "\n",
        "        else:\n",
        "          dr_ga = np.zeros(2)\n",
        "\n",
        "        # From effector speed to joint speed\n",
        "        dq = np.linalg.inv( J ) @ dr_ga\n",
        "\n",
        "        return dq\n"
      ],
      "execution_count": null,
      "outputs": []
    },
    {
      "cell_type": "code",
      "source": [
        "ctl = CustomKinematicController( robot )"
      ],
      "metadata": {
        "id": "H4Y5GkL065_g"
      },
      "execution_count": null,
      "outputs": []
    },
    {
      "cell_type": "markdown",
      "metadata": {
        "id": "rOXYBwANcsc9"
      },
      "source": [
        "## Simulating the robot in closed-loop\n",
        "\n",
        "Here we run a simulation of the robot with the controller."
      ]
    },
    {
      "cell_type": "code",
      "metadata": {
        "id": "5YuyYOPSc5Gy"
      },
      "source": [
        "# Create the closed-loop system\n",
        "robot_with_controller = ctl + robot\n",
        "\n",
        "# Run the simulation\n",
        "robot_with_controller.x0[0] = np.pi/2 - 0.643501\n",
        "robot_with_controller.x0[1] = np.pi/2\n",
        "robot_with_controller.compute_trajectory( tf = 15 )"
      ],
      "execution_count": null,
      "outputs": []
    },
    {
      "cell_type": "code",
      "source": [
        "# Animate the simulation\n",
        "ani = robot_with_controller.generate_simulation_html_video()\n",
        "html = display.HTML(ani)\n",
        "display.display(html)"
      ],
      "metadata": {
        "id": "6b5LMggz7kUI"
      },
      "execution_count": null,
      "outputs": []
    },
    {
      "cell_type": "code",
      "source": [
        "# Plot systems states\n",
        "robot_with_controller.plot_trajectory('x')"
      ],
      "metadata": {
        "id": "zqNOHkbr73JT"
      },
      "execution_count": null,
      "outputs": []
    },
    {
      "cell_type": "code",
      "source": [
        "# Plot control inputs\n",
        "robot_with_controller.plot_trajectory('u')"
      ],
      "metadata": {
        "id": "aAWOXQjo75pR"
      },
      "execution_count": null,
      "outputs": []
    }
  ]
}