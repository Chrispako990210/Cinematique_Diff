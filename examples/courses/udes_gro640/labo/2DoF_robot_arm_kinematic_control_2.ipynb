{
  "nbformat": 4,
  "nbformat_minor": 0,
  "metadata": {
    "colab": {
      "provenance": [],
      "private_outputs": true
    },
    "kernelspec": {
      "name": "python3",
      "display_name": "Python 3"
    },
    "language_info": {
      "name": "python"
    }
  },
  "cells": [
    {
      "cell_type": "markdown",
      "source": [
        "# Robot arm kinematic control\n",
        "\n",
        "This page introduce the concept of controlling the end-effector of a robot when its joint are controlled with velocity set-points."
      ],
      "metadata": {
        "id": "OfiozzVs1Upg"
      }
    },
    {
      "cell_type": "markdown",
      "metadata": {
        "id": "eOFBWst7WmCb"
      },
      "source": [
        "## Importing Librairies"
      ]
    },
    {
      "cell_type": "code",
      "metadata": {
        "id": "tH-1a9VJGXi8"
      },
      "source": [
        "# Loading a robotic toolbox\n",
        "!git clone https://github.com/SherbyRobotics/pyro\n",
        "import sys\n",
        "sys.path.append('/content/pyro')\n",
        "import pyro\n",
        "\n",
        "# Generic python tools\n",
        "import numpy as np\n",
        "from IPython import display"
      ],
      "execution_count": null,
      "outputs": []
    },
    {
      "cell_type": "markdown",
      "metadata": {
        "id": "cau_ePoSW6Z_"
      },
      "source": [
        "# Defining the robot arm\n",
        "\n",
        "Here we load a already defined class from the library including the dynamic equations defining the robot arm behavior.\n",
        "\n"
      ]
    },
    {
      "cell_type": "code",
      "metadata": {
        "id": "5pf-lSEZG5gy"
      },
      "source": [
        "from pyro.dynamic import manipulator\n",
        "\n",
        "# Dynamic model (inputs are motor torques)\n",
        "torque_controlled_robot    = manipulator.TwoLinkManipulator()\n",
        "\n",
        "torque_controlled_robot.l1 = 4.0 # length of first rigid link\n",
        "torque_controlled_robot.l2 = 3.0 # length of second rigid link\n",
        "torque_controlled_robot.l_domain = 10\n",
        "\n",
        "# Kinematic only model (inputs are motor velocities)\n",
        "speed_controlled_robot  = manipulator.SpeedControlledManipulator.from_manipulator( torque_controlled_robot )\n",
        "\n",
        "robot = speed_controlled_robot # For this exercise, we will only use the kinematic model"
      ],
      "execution_count": null,
      "outputs": []
    },
    {
      "cell_type": "markdown",
      "metadata": {
        "id": "P2wLQ8lDYY9S"
      },
      "source": [
        "## Showing the robot behavior with constant velocity inputs\n",
        "\n",
        "Here we run a simulation of the robot arm with no controllers:"
      ]
    },
    {
      "cell_type": "code",
      "metadata": {
        "id": "lfjr9zXlYYMb"
      },
      "source": [
        "# robot initial states [ joint 1 angle (rad),  joint 2 angle (rad), joint 1 velocity (rad/sec),  joint 1 velocity (rad/sec)]\n",
        "robot.x0 = np.array([ 0.1, 0.1])\n",
        "\n",
        "# robot constant inputs\n",
        "robot.ubar = np.array([ 0.5, 1.0]) # Constant joint velocities\n",
        "\n",
        "# run the simulation\n",
        "robot.compute_trajectory( tf = 6 )\n",
        "\n",
        "# Animate and display the simulation\n",
        "ani  = robot.generate_simulation_html_video()\n",
        "html = display.HTML( ani )\n",
        "display.display(html)"
      ],
      "execution_count": null,
      "outputs": []
    },
    {
      "cell_type": "markdown",
      "metadata": {
        "id": "nxKK7RWBa8kd"
      },
      "source": [
        "# Kinematic controller\n",
        "\n",
        "Here bellow you can write your own custom kinematic control law, i.e. computing the joint velocity based on actual joint position and time. Here the framework is already set in place for you to speed-up the implementation process. The following variable are pre-computed and available for you to use in the feedback law:\n",
        "\n",
        "*   The joint angles $q$\n",
        "*   The time $t$\n",
        "\n",
        "Furthermore, based on a kinematic robot model the following properties are also pre-computed:\n",
        "*   The actual end-effector position $r$\n",
        "*   The Jacobian $J(q)$\n",
        "\n"
      ]
    },
    {
      "cell_type": "code",
      "metadata": {
        "id": "M4cQxkQTD0Qn"
      },
      "source": [
        "from pyro.control  import robotcontrollers\n",
        "import matplotlib.pyplot as plt\n",
        "\n",
        "class CustomKinematicController( robotcontrollers.EndEffectorKinematicController ) :\n",
        "\n",
        "    def statique_of_robot(self, qmin, qmax, num_pts, Fe_vect): # qmin : int, qmax : int,\n",
        "        \"\"\"\n",
        "          Feedback static computation u = c(y,r,t)\n",
        "\n",
        "          INPUTS\n",
        "          qmin : limit min of domaine      int\n",
        "          qmax : limit max of domaine      int\n",
        "          num_pts : num of points in linspace int\n",
        "          Fe_vect : Effector forces vector n x 1\n",
        "\n",
        "          OUTPUTS\n",
        "          none  : plots tau (torque) surfaces 3d plot : (q1, q2, tau_i)\n",
        "\n",
        "        \"\"\"\n",
        "\n",
        "        q1 = np.linspace(qmin, qmax, num_pts)\n",
        "        q2 = np.linspace(qmin, qmax, num_pts)\n",
        "        Tau1 = np.zeros((len(q1), len(q2)))\n",
        "        Tau2 = np.zeros((len(q1), len(q2)))\n",
        "        q1, q2 = np.meshgrid(q1, q2)\n",
        "\n",
        "        # Pre-computed values based on the robot kinematic model\n",
        "        for i in range(0, len(q1)-1):\n",
        "          for j in range(0, len(q2)-1):\n",
        "            q = np.array([q1[i,j], q2[i,j]])\n",
        "            t = torque_controlled_robot.J( q ).T @ Fe_vect # Refaire en calculant l'inv de la matrice\n",
        "            Tau1[i, j] = t[0]\n",
        "            Tau2[i, j] = t[1]\n",
        "\n",
        "\n",
        "        # Create a 3D plot\n",
        "        fig = plt.figure()\n",
        "        ax = fig.add_subplot(111, projection='3d')\n",
        "\n",
        "        # Plot the meshgrid\n",
        "        ax.scatter(q1, q2, Tau1)\n",
        "\n",
        "        # Add labels and title\n",
        "        ax.set_xlabel('Q1')\n",
        "        ax.set_ylabel('Q2')\n",
        "        ax.set_zlabel('tau 1')\n",
        "        ax.set_title('3D Meshgrid')\n",
        "\n",
        "        # Display the plot\n",
        "        plt.show()\n",
        "\n",
        "\n",
        "      # Create a 3D plot\n",
        "        fig = plt.figure()\n",
        "        ax = fig.add_subplot(111, projection='3d')\n",
        "\n",
        "        # Plot the meshgrid\n",
        "        ax.scatter(q1, q2, Tau2)\n",
        "\n",
        "        # Add labels and title\n",
        "        ax.set_xlabel('Q1')\n",
        "        ax.set_ylabel('Q2')\n",
        "        ax.set_zlabel('tau 2')\n",
        "        ax.set_title('3D Meshgrid')\n",
        "\n",
        "        # Display the plot\n",
        "        plt.show()\n",
        "    #############################\n",
        "    def c( self , y , r , t ):\n",
        "        \"\"\"\n",
        "        Feedback static computation u = c(y,r,t)\n",
        "\n",
        "        INPUTS\n",
        "        y  : sensor signal vector     p x 1\n",
        "        r  : reference signal vector  k x 1\n",
        "        t  : time                     1 x 1\n",
        "\n",
        "        OUTPUTS\n",
        "        dq  : joint velocity vector   m x 1\n",
        "\n",
        "        \"\"\"\n",
        "\n",
        "        # Feedback from sensors\n",
        "        q = y                  # Joint angles\n",
        "\n",
        "        # Pre-computed values based on the robot kinematic model\n",
        "        J = self.J( q )        # Jacobian computation\n",
        "        r = self.fwd_kin( q )  # End-effector postion\n",
        "\n",
        "        ##############################\n",
        "        # YOUR CODE BELLOW !!\n",
        "        ##############################\n",
        "\n",
        "        # Compute the reference\n",
        "        r_d  = np.zeros(2) # Place-holder\n",
        "        dr_d = np.zeros(2) # Place-holder\n",
        "\n",
        "        # Compute the desired effector velocity\n",
        "        dr_r = np.array([-0.1,0.1]) # Place holder\n",
        "\n",
        "        # From effector speed to joint speed\n",
        "        dq = np.linalg.inv( J ) @ dr_r\n",
        "\n",
        "        return dq"
      ],
      "execution_count": null,
      "outputs": []
    },
    {
      "cell_type": "code",
      "source": [
        "ctl = CustomKinematicController( robot )\n",
        "ctl.statique_of_robot(-np.pi, np.pi, 25, np.array([0.0, -1.0]))"
      ],
      "metadata": {
        "id": "H4Y5GkL065_g"
      },
      "execution_count": null,
      "outputs": []
    },
    {
      "cell_type": "markdown",
      "metadata": {
        "id": "rOXYBwANcsc9"
      },
      "source": [
        "## Simulating the robot in closed-loop\n",
        "\n",
        "Here we run a simulation of the robot with the controller."
      ]
    },
    {
      "cell_type": "code",
      "metadata": {
        "id": "5YuyYOPSc5Gy"
      },
      "source": [
        "# Create the closed-loop system\n",
        "robot_with_controller = ctl + robot\n",
        "\n",
        "# Run the simulation\n",
        "robot_with_controller.x0[0] = 1.0\n",
        "robot_with_controller.x0[1] = 1.0\n",
        "robot_with_controller.compute_trajectory( tf = 5 )"
      ],
      "execution_count": null,
      "outputs": []
    },
    {
      "cell_type": "code",
      "source": [
        "# Animate the simulation\n",
        "ani = robot_with_controller.generate_simulation_html_video()\n",
        "html = display.HTML(ani)\n",
        "display.display(html)"
      ],
      "metadata": {
        "id": "6b5LMggz7kUI"
      },
      "execution_count": null,
      "outputs": []
    },
    {
      "cell_type": "code",
      "source": [
        "# Plot systems states\n",
        "robot_with_controller.plot_trajectory('x')"
      ],
      "metadata": {
        "id": "zqNOHkbr73JT"
      },
      "execution_count": null,
      "outputs": []
    },
    {
      "cell_type": "code",
      "source": [
        "# Plot control inputs\n",
        "robot_with_controller.plot_trajectory('u')"
      ],
      "metadata": {
        "id": "aAWOXQjo75pR"
      },
      "execution_count": null,
      "outputs": []
    }
  ]
}